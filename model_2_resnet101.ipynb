{
  "cells": [
    {
      "cell_type": "code",
      "execution_count": 1,
      "metadata": {
        "colab": {
          "base_uri": "https://localhost:8080/"
        },
        "id": "iC4iKtnO48wG",
        "outputId": "cf521aba-5b41-4e0e-82dc-2ac31a26fe81"
      },
      "outputs": [
        {
          "output_type": "stream",
          "name": "stdout",
          "text": [
            "Mounted at /content/drive\n"
          ]
        }
      ],
      "source": [
        "from google.colab import drive\n",
        "drive.mount('/content/drive')"
      ]
    },
    {
      "cell_type": "code",
      "execution_count": 2,
      "metadata": {
        "id": "5fHbmIpJ5ddh"
      },
      "outputs": [],
      "source": [
        "import os\n",
        "os.environ['KAGGLE_CONFIG_DIR'] = \"/content/drive/MyDrive/AI/Datasets\"\n"
      ]
    },
    {
      "cell_type": "code",
      "execution_count": 3,
      "metadata": {
        "colab": {
          "base_uri": "https://localhost:8080/"
        },
        "id": "wZofQw776Glp",
        "outputId": "d7a62ae1-dc4f-4470-f3b6-cf70335bb445"
      },
      "outputs": [
        {
          "output_type": "stream",
          "name": "stdout",
          "text": [
            "/content/drive/MyDrive/AI/Datasets\n"
          ]
        }
      ],
      "source": [
        "%cd /content/drive/MyDrive/AI/Datasets"
      ]
    },
    {
      "cell_type": "code",
      "execution_count": 4,
      "metadata": {
        "colab": {
          "base_uri": "https://localhost:8080/"
        },
        "id": "EtcyEQNd6HVQ",
        "outputId": "02d61948-35b7-4979-93e2-f9da6e02568f"
      },
      "outputs": [
        {
          "output_type": "stream",
          "name": "stdout",
          "text": [
            "Downloading fercustomdataset-3classes.zip to /content/drive/MyDrive/AI/Datasets\n",
            "100% 83.1M/83.1M [00:05<00:00, 21.5MB/s]\n",
            "100% 83.1M/83.1M [00:05<00:00, 17.0MB/s]\n"
          ]
        }
      ],
      "source": [
        "!kaggle datasets download -d nightfury007/fercustomdataset-3classes"
      ]
    },
    {
      "cell_type": "code",
      "execution_count": 5,
      "metadata": {
        "id": "gxMzgZrg6LS6"
      },
      "outputs": [],
      "source": [
        "import zipfile\n",
        "for file in os.listdir():\n",
        "    if file.endswith(\".zip\"):\n",
        "        with zipfile.ZipFile(file, \"r\") as zip_file:\n",
        "            zip_file.extractall()\n",
        "        os.remove(file)"
      ]
    },
    {
      "cell_type": "code",
      "execution_count": 6,
      "metadata": {
        "id": "yIDNx91q6OEl"
      },
      "outputs": [],
      "source": [
        "import os\n",
        "import torch\n",
        "import torchvision\n",
        "import tarfile\n",
        "import torch.nn as nn\n",
        "import numpy as np\n",
        "import torch.nn.functional as F\n",
        "from torchvision.datasets.utils import download_url\n",
        "from torchvision.datasets import ImageFolder\n",
        "from torch.utils.data import DataLoader\n",
        "import torchvision.transforms as transforms\n",
        "from torch.utils.data import random_split\n",
        "from torchvision.utils import make_grid\n",
        "import matplotlib\n",
        "from torch.utils.data import Dataset, DataLoader\n",
        "import matplotlib.pyplot as plt\n",
        "from torch.utils.data.sampler import SubsetRandomSampler\n",
        "import glob\n",
        "import torch.optim as optim\n",
        "import time\n",
        "import cv2\n",
        "import torchvision.datasets as datasets\n",
        "%matplotlib inline"
      ]
    },
    {
      "cell_type": "code",
      "execution_count": 7,
      "metadata": {
        "id": "jDL2XD2n6TVy",
        "colab": {
          "base_uri": "https://localhost:8080/"
        },
        "outputId": "0ac1ba25-ca5b-4b8c-9d75-11ee8dd4252b"
      },
      "outputs": [
        {
          "output_type": "stream",
          "name": "stdout",
          "text": [
            "['Disappointed', 'interested', 'neutral']\n"
          ]
        }
      ],
      "source": [
        "data_dir = '/content/drive/MyDrive/AI/Datasets/FER_Custom_Dataset'\n",
        "IMAGE_DIM=256\n",
        "\n",
        "print(os.listdir(data_dir))"
      ]
    },
    {
      "cell_type": "code",
      "execution_count": 8,
      "metadata": {
        "id": "CWrqO8h56VYk"
      },
      "outputs": [],
      "source": [
        "def load_data(path, test_split, batch_size, input_size, shuffle_dataset=True,random_seed=42):\n",
        "    \n",
        "    transform_dict ={'src': transforms.Compose([transforms.Resize(IMAGE_DIM), \n",
        "                                                transforms.RandomHorizontalFlip(), \n",
        "                                                transforms.ToTensor(),\n",
        "                                                transforms.Normalize(mean=[0.485, 0.456, 0.406],\n",
        "                                                                     std=[0.229, 0.224, 0.225]\n",
        "                                                                    )\n",
        "                                               ]\n",
        "                                              )\n",
        "                    }\n",
        "    \n",
        "    dataset = datasets.ImageFolder(data_dir, transform=transform_dict.get('src'))\n",
        "    dataset_size = len(dataset)\n",
        "    train_test_indices = list(range(dataset_size))\n",
        "    test_split = int(np.floor(test_split * dataset_size))\n",
        "    \n",
        "    if shuffle_dataset :\n",
        "        np.random.seed(random_seed)\n",
        "        np.random.shuffle(train_test_indices)\n",
        "    train_indices, test_indices = train_test_indices[test_split:], train_test_indices[:test_split]\n",
        "    \n",
        "\n",
        "    # Creating PT data samplers and loaders:\n",
        "    train_sampler = SubsetRandomSampler(train_indices)\n",
        "    test_sampler = SubsetRandomSampler(test_indices)\n",
        "\n",
        "    data_loader_train = torch.utils.data.DataLoader(dataset, batch_size=batch_size, \n",
        "                                              sampler=train_sampler)\n",
        "    data_loader_test = torch.utils.data.DataLoader(dataset, batch_size=batch_size,\n",
        "                                                    sampler=test_sampler)\n",
        "    \n",
        "    return data_loader_train, data_loader_test"
      ]
    },
    {
      "cell_type": "code",
      "execution_count": 9,
      "metadata": {
        "id": "sJcMFe_H6Ye2",
        "colab": {
          "base_uri": "https://localhost:8080/"
        },
        "outputId": "3f72eea8-dc6c-43ac-efba-f3e182fcce5f"
      },
      "outputs": [
        {
          "output_type": "stream",
          "name": "stdout",
          "text": [
            "1096 274\n"
          ]
        }
      ],
      "source": [
        "train_loader, test_loader=load_data(data_dir,0.2,32,(64,64))\n",
        "\n",
        "print(len(train_loader), len(test_loader))"
      ]
    },
    {
      "cell_type": "code",
      "execution_count": 10,
      "metadata": {
        "id": "HnLT4T0Q6ZbK",
        "colab": {
          "base_uri": "https://localhost:8080/"
        },
        "outputId": "5445cd16-91b2-4b45-eaa9-7fc7bc2c3c40"
      },
      "outputs": [
        {
          "output_type": "stream",
          "name": "stderr",
          "text": [
            "Downloading: \"https://github.com/pytorch/vision/zipball/v0.10.0\" to /root/.cache/torch/hub/v0.10.0.zip\n",
            "/usr/local/lib/python3.7/dist-packages/torchvision/models/_utils.py:209: UserWarning: The parameter 'pretrained' is deprecated since 0.13 and will be removed in 0.15, please use 'weights' instead.\n",
            "  f\"The parameter '{pretrained_param}' is deprecated since 0.13 and will be removed in 0.15, \"\n",
            "/usr/local/lib/python3.7/dist-packages/torchvision/models/_utils.py:223: UserWarning: Arguments other than a weight enum or `None` for 'weights' are deprecated since 0.13 and will be removed in 0.15. The current behavior is equivalent to passing `weights=None`.\n",
            "  warnings.warn(msg)\n"
          ]
        }
      ],
      "source": [
        "######## Write your code here ##############\n",
        "model = torch.hub.load('pytorch/vision:v0.10.0', 'resnet101', pretrained=False)\n",
        "criterion = torch.nn.CrossEntropyLoss()\n",
        "optimizer = torch.optim.Adam(model.parameters(), lr=0.001)\n"
      ]
    },
    {
      "cell_type": "code",
      "execution_count": 12,
      "metadata": {
        "id": "7VLVATHA6bld",
        "colab": {
          "base_uri": "https://localhost:8080/"
        },
        "outputId": "07937a66-2e33-487a-be39-a9e4a32c5a76"
      },
      "outputs": [
        {
          "output_type": "stream",
          "name": "stdout",
          "text": [
            "Device: cuda:0\n",
            "Epoch [1/2], Step [100/1096], Loss: 1.1894, Accuracy: 34.38%\n",
            "Epoch [1/2], Step [200/1096], Loss: 1.0684, Accuracy: 37.50%\n",
            "Epoch [1/2], Step [300/1096], Loss: 1.1106, Accuracy: 34.38%\n",
            "Epoch [1/2], Step [400/1096], Loss: 1.0375, Accuracy: 46.88%\n",
            "Epoch [1/2], Step [500/1096], Loss: 1.1250, Accuracy: 34.38%\n",
            "Epoch [1/2], Step [600/1096], Loss: 1.1109, Accuracy: 46.88%\n",
            "Epoch [1/2], Step [700/1096], Loss: 0.9926, Accuracy: 59.38%\n",
            "Epoch [1/2], Step [800/1096], Loss: 1.0658, Accuracy: 50.00%\n",
            "Epoch [1/2], Step [900/1096], Loss: 1.0106, Accuracy: 43.75%\n",
            "Epoch [1/2], Step [1000/1096], Loss: 1.0716, Accuracy: 40.62%\n",
            "Epoch [2/2], Step [100/1096], Loss: 1.1138, Accuracy: 40.62%\n",
            "Epoch [2/2], Step [200/1096], Loss: 1.0021, Accuracy: 56.25%\n",
            "Epoch [2/2], Step [300/1096], Loss: 0.9971, Accuracy: 56.25%\n",
            "Epoch [2/2], Step [400/1096], Loss: 1.0733, Accuracy: 46.88%\n",
            "Epoch [2/2], Step [500/1096], Loss: 1.1236, Accuracy: 31.25%\n",
            "Epoch [2/2], Step [600/1096], Loss: 1.1963, Accuracy: 21.88%\n",
            "Epoch [2/2], Step [700/1096], Loss: 1.0989, Accuracy: 43.75%\n",
            "Epoch [2/2], Step [800/1096], Loss: 1.0511, Accuracy: 40.62%\n",
            "Epoch [2/2], Step [900/1096], Loss: 1.0014, Accuracy: 37.50%\n",
            "Epoch [2/2], Step [1000/1096], Loss: 1.0991, Accuracy: 31.25%\n",
            "######## Training Finished in 1624.3055415153503 seconds ###########\n"
          ]
        }
      ],
      "source": [
        "device = torch.device(\"cuda:0\" if torch.cuda.is_available() else \"cpu\")\n",
        "print(\"Device: {}\".format(device))\n",
        "model.to(device)\n",
        "\n",
        "num_epochs = 2\n",
        "total_steps = len(train_loader)\n",
        "t1 = time.time()\n",
        "for epoch in range(num_epochs):\n",
        "    for i, data in enumerate(train_loader):\n",
        "        images, labels = data[0].to(device), data[1].to(device)\n",
        "        \n",
        "        # Forward pass\n",
        "        outputs = model(images)\n",
        "        loss = criterion(outputs, labels)\n",
        "        \n",
        "        # Backprop and optimisation\n",
        "        optimizer.zero_grad()\n",
        "        loss.backward()\n",
        "        optimizer.step()\n",
        "        \n",
        "        # Train accuracy\n",
        "        total = labels.size(0)\n",
        "        _,predicted = torch.max(outputs.data, 1)\n",
        "        correct = (predicted == labels).sum().item()\n",
        "        if (i + 1) % 100 == 0:\n",
        "            print('Epoch [{}/{}], Step [{}/{}], Loss: {:.4f}, Accuracy: {:.2f}%'\n",
        "                .format(epoch + 1, num_epochs, i + 1, total_steps, loss.item(),\n",
        "                    (correct / total) * 100))\n",
        "            \n",
        "print(\"######## Training Finished in {} seconds ###########\".format(time.time()-t1))"
      ]
    },
    {
      "cell_type": "code",
      "execution_count": null,
      "metadata": {
        "id": "9Ha_rDvC6di2"
      },
      "outputs": [],
      "source": []
    },
    {
      "cell_type": "code",
      "execution_count": null,
      "metadata": {
        "id": "3NTcIdKW5PPV"
      },
      "outputs": [],
      "source": []
    }
  ],
  "metadata": {
    "colab": {
      "provenance": []
    },
    "kernelspec": {
      "display_name": "Python 3 (ipykernel)",
      "language": "python",
      "name": "python3"
    },
    "language_info": {
      "codemirror_mode": {
        "name": "ipython",
        "version": 3
      },
      "file_extension": ".py",
      "mimetype": "text/x-python",
      "name": "python",
      "nbconvert_exporter": "python",
      "pygments_lexer": "ipython3",
      "version": "3.9.13"
    },
    "accelerator": "GPU",
    "gpuClass": "standard"
  },
  "nbformat": 4,
  "nbformat_minor": 0
}