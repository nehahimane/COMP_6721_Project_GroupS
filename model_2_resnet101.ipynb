{
  "cells": [
    {
      "cell_type": "code",
      "execution_count": 3,
      "metadata": {
        "colab": {
          "base_uri": "https://localhost:8080/"
        },
        "id": "iC4iKtnO48wG",
        "outputId": "d691d539-3ad2-4d00-be52-cf6b7226a2aa"
      },
      "outputs": [
        {
          "output_type": "stream",
          "name": "stdout",
          "text": [
            "Mounted at /content/drive\n"
          ]
        }
      ],
      "source": [
        "from google.colab import drive\n",
        "drive.mount('/content/drive')"
      ]
    },
    {
      "cell_type": "code",
      "execution_count": 4,
      "metadata": {
        "id": "5fHbmIpJ5ddh"
      },
      "outputs": [],
      "source": [
        "import os\n",
        "os.environ['KAGGLE_CONFIG_DIR'] = \"/content/drive/MyDrive/AI/Datasets\"\n"
      ]
    },
    {
      "cell_type": "code",
      "execution_count": 5,
      "metadata": {
        "colab": {
          "base_uri": "https://localhost:8080/"
        },
        "id": "wZofQw776Glp",
        "outputId": "edaf1e24-9220-4b48-e441-1c96ff703669"
      },
      "outputs": [
        {
          "output_type": "stream",
          "name": "stdout",
          "text": [
            "/content/drive/MyDrive/AI/Datasets\n"
          ]
        }
      ],
      "source": [
        "%cd /content/drive/MyDrive/AI/Datasets"
      ]
    },
    {
      "cell_type": "code",
      "execution_count": 11,
      "metadata": {
        "colab": {
          "base_uri": "https://localhost:8080/"
        },
        "id": "EtcyEQNd6HVQ",
        "outputId": "5ef3ea68-3df2-4a5a-8f23-34da2237953c"
      },
      "outputs": [
        {
          "output_type": "stream",
          "name": "stdout",
          "text": [
            "Downloading fercustomdataset-3classes.zip to /content/drive/MyDrive/AI/Datasets\n",
            " 99% 82.0M/83.1M [00:06<00:00, 16.8MB/s]\n",
            "100% 83.1M/83.1M [00:06<00:00, 13.0MB/s]\n"
          ]
        }
      ],
      "source": [
        "!kaggle datasets download -d nightfury007/fercustomdataset-3classes"
      ]
    },
    {
      "cell_type": "code",
      "execution_count": 12,
      "metadata": {
        "id": "gxMzgZrg6LS6"
      },
      "outputs": [],
      "source": [
        "import zipfile\n",
        "for file in os.listdir():\n",
        "    if file.endswith(\".zip\"):\n",
        "        with zipfile.ZipFile(file, \"r\") as zip_file:\n",
        "            zip_file.extractall()\n",
        "        os.remove(file)"
      ]
    },
    {
      "cell_type": "code",
      "execution_count": 13,
      "metadata": {
        "id": "yIDNx91q6OEl"
      },
      "outputs": [],
      "source": [
        "import os\n",
        "import torch\n",
        "import torchvision\n",
        "import tarfile\n",
        "import torch.nn as nn\n",
        "import numpy as np\n",
        "import torch.nn.functional as F\n",
        "from torchvision.datasets.utils import download_url\n",
        "from torchvision.datasets import ImageFolder\n",
        "from torch.utils.data import DataLoader\n",
        "import torchvision.transforms as transforms\n",
        "from torch.utils.data import random_split\n",
        "from torchvision.utils import make_grid\n",
        "import matplotlib\n",
        "from torch.utils.data import Dataset, DataLoader\n",
        "import matplotlib.pyplot as plt\n",
        "from torch.utils.data.sampler import SubsetRandomSampler\n",
        "import glob\n",
        "import torch.optim as optim\n",
        "import time\n",
        "import cv2\n",
        "import torchvision.datasets as datasets\n",
        "%matplotlib inline"
      ]
    },
    {
      "cell_type": "code",
      "execution_count": 14,
      "metadata": {
        "id": "jDL2XD2n6TVy",
        "colab": {
          "base_uri": "https://localhost:8080/"
        },
        "outputId": "24997576-441c-4971-82d1-1b1862d2f5e4"
      },
      "outputs": [
        {
          "output_type": "stream",
          "name": "stdout",
          "text": [
            "['Disappointed', 'interested', 'neutral']\n"
          ]
        }
      ],
      "source": [
        "data_dir = '/content/drive/MyDrive/AI/Datasets/FER_Custom_Dataset'\n",
        "IMAGE_DIM=256\n",
        "\n",
        "print(os.listdir(data_dir))"
      ]
    },
    {
      "cell_type": "code",
      "execution_count": 15,
      "metadata": {
        "id": "CWrqO8h56VYk"
      },
      "outputs": [],
      "source": [
        "def load_data(path, test_split, batch_size, input_size, shuffle_dataset=True,random_seed=42):\n",
        "    \n",
        "    transform_dict ={'src': transforms.Compose([transforms.Grayscale(3),\n",
        "                                                transforms.Resize(IMAGE_DIM),\n",
        "                                                transforms.CenterCrop(224), \n",
        "                                                transforms.RandomHorizontalFlip(), \n",
        "                                                transforms.ToTensor(),\n",
        "                                                transforms.Normalize(mean=[0.485, 0.456, 0.406],\n",
        "                                                                     std=[0.229, 0.224, 0.225]\n",
        "                                                                    )\n",
        "                                               ]\n",
        "                                              )\n",
        "                    }\n",
        "    \n",
        "    dataset = datasets.ImageFolder(data_dir, transform=transform_dict.get('src'))\n",
        "    dataset_size = len(dataset)\n",
        "    train_test_indices = list(range(dataset_size))\n",
        "    test_split = int(np.floor(test_split * dataset_size))\n",
        "    \n",
        "    if shuffle_dataset :\n",
        "        np.random.seed(random_seed)\n",
        "        np.random.shuffle(train_test_indices)\n",
        "    train_indices, test_indices = train_test_indices[test_split:], train_test_indices[:test_split]\n",
        "    \n",
        "\n",
        "    # Creating PT data samplers and loaders:\n",
        "    train_sampler = SubsetRandomSampler(train_indices)\n",
        "    test_sampler = SubsetRandomSampler(test_indices)\n",
        "\n",
        "    data_loader_train = torch.utils.data.DataLoader(dataset, batch_size=batch_size, \n",
        "                                              sampler=train_sampler)\n",
        "    data_loader_test = torch.utils.data.DataLoader(dataset, batch_size=batch_size,\n",
        "                                                    sampler=test_sampler)\n",
        "    \n",
        "    return data_loader_train, data_loader_test"
      ]
    },
    {
      "cell_type": "code",
      "execution_count": 16,
      "metadata": {
        "id": "sJcMFe_H6Ye2",
        "colab": {
          "base_uri": "https://localhost:8080/"
        },
        "outputId": "d0e094c3-9174-48e1-ba39-aec74f0d528b"
      },
      "outputs": [
        {
          "output_type": "stream",
          "name": "stdout",
          "text": [
            "1096 274\n"
          ]
        }
      ],
      "source": [
        "train_loader, test_loader=load_data(data_dir,0.2,32,(64,64))\n",
        "\n",
        "print(len(train_loader), len(test_loader))"
      ]
    },
    {
      "cell_type": "code",
      "execution_count": 17,
      "metadata": {
        "id": "HnLT4T0Q6ZbK",
        "colab": {
          "base_uri": "https://localhost:8080/"
        },
        "outputId": "8985791f-316a-4638-a641-b7d7a1b1319b"
      },
      "outputs": [
        {
          "output_type": "stream",
          "name": "stderr",
          "text": [
            "Downloading: \"https://github.com/pytorch/vision/zipball/v0.10.0\" to /root/.cache/torch/hub/v0.10.0.zip\n",
            "/usr/local/lib/python3.7/dist-packages/torchvision/models/_utils.py:209: UserWarning: The parameter 'pretrained' is deprecated since 0.13 and will be removed in 0.15, please use 'weights' instead.\n",
            "  f\"The parameter '{pretrained_param}' is deprecated since 0.13 and will be removed in 0.15, \"\n",
            "/usr/local/lib/python3.7/dist-packages/torchvision/models/_utils.py:223: UserWarning: Arguments other than a weight enum or `None` for 'weights' are deprecated since 0.13 and will be removed in 0.15. The current behavior is equivalent to passing `weights=None`.\n",
            "  warnings.warn(msg)\n"
          ]
        }
      ],
      "source": [
        "######## Write your code here ##############\n",
        "model = torch.hub.load('pytorch/vision:v0.10.0', 'resnet101', pretrained=False)\n",
        "criterion = torch.nn.CrossEntropyLoss()\n",
        "optimizer = torch.optim.Adam(model.parameters(), lr=0.01)\n"
      ]
    },
    {
      "cell_type": "code",
      "execution_count": 18,
      "metadata": {
        "id": "7VLVATHA6bld",
        "colab": {
          "base_uri": "https://localhost:8080/"
        },
        "outputId": "45a88b69-bef9-4b4e-c2a1-3fce6d5e7c1b"
      },
      "outputs": [
        {
          "output_type": "stream",
          "name": "stdout",
          "text": [
            "Device: cuda:0\n",
            "Epoch [1/15], Step [100/1096], Loss: 1.0796, Accuracy: 34.38%\n",
            "Epoch [1/15], Step [200/1096], Loss: 1.1014, Accuracy: 25.00%\n",
            "Epoch [1/15], Step [300/1096], Loss: 1.0621, Accuracy: 50.00%\n",
            "Epoch [1/15], Step [400/1096], Loss: 1.1286, Accuracy: 31.25%\n",
            "Epoch [1/15], Step [500/1096], Loss: 1.0826, Accuracy: 40.62%\n",
            "Epoch [1/15], Step [600/1096], Loss: 1.2021, Accuracy: 21.88%\n",
            "Epoch [1/15], Step [700/1096], Loss: 1.1050, Accuracy: 31.25%\n",
            "Epoch [1/15], Step [800/1096], Loss: 1.1053, Accuracy: 28.12%\n",
            "Epoch [1/15], Step [900/1096], Loss: 1.1603, Accuracy: 31.25%\n",
            "Epoch [1/15], Step [1000/1096], Loss: 1.1207, Accuracy: 40.62%\n",
            "Epoch [2/15], Step [100/1096], Loss: 1.1124, Accuracy: 40.62%\n",
            "Epoch [2/15], Step [200/1096], Loss: 1.1064, Accuracy: 37.50%\n",
            "Epoch [2/15], Step [300/1096], Loss: 1.1779, Accuracy: 25.00%\n",
            "Epoch [2/15], Step [400/1096], Loss: 1.0507, Accuracy: 43.75%\n",
            "Epoch [2/15], Step [500/1096], Loss: 1.0866, Accuracy: 34.38%\n",
            "Epoch [2/15], Step [600/1096], Loss: 1.1496, Accuracy: 40.62%\n",
            "Epoch [2/15], Step [700/1096], Loss: 1.1045, Accuracy: 34.38%\n",
            "Epoch [2/15], Step [800/1096], Loss: 1.0572, Accuracy: 50.00%\n",
            "Epoch [2/15], Step [900/1096], Loss: 1.0709, Accuracy: 40.62%\n",
            "Epoch [2/15], Step [1000/1096], Loss: 1.0362, Accuracy: 46.88%\n",
            "Epoch [3/15], Step [100/1096], Loss: 1.0714, Accuracy: 43.75%\n",
            "Epoch [3/15], Step [200/1096], Loss: 1.0932, Accuracy: 28.12%\n",
            "Epoch [3/15], Step [300/1096], Loss: 1.0828, Accuracy: 40.62%\n",
            "Epoch [3/15], Step [400/1096], Loss: 1.1080, Accuracy: 40.62%\n",
            "Epoch [3/15], Step [500/1096], Loss: 1.1403, Accuracy: 40.62%\n",
            "Epoch [3/15], Step [600/1096], Loss: 1.0651, Accuracy: 46.88%\n",
            "Epoch [3/15], Step [700/1096], Loss: 1.0344, Accuracy: 53.12%\n",
            "Epoch [3/15], Step [800/1096], Loss: 1.1159, Accuracy: 28.12%\n",
            "Epoch [3/15], Step [900/1096], Loss: 1.0681, Accuracy: 43.75%\n",
            "Epoch [3/15], Step [1000/1096], Loss: 1.1302, Accuracy: 34.38%\n",
            "Epoch [4/15], Step [100/1096], Loss: 1.0571, Accuracy: 43.75%\n",
            "Epoch [4/15], Step [200/1096], Loss: 1.0623, Accuracy: 50.00%\n",
            "Epoch [4/15], Step [300/1096], Loss: 1.1238, Accuracy: 31.25%\n",
            "Epoch [4/15], Step [400/1096], Loss: 1.0925, Accuracy: 34.38%\n",
            "Epoch [4/15], Step [500/1096], Loss: 1.0521, Accuracy: 34.38%\n",
            "Epoch [4/15], Step [600/1096], Loss: 1.0442, Accuracy: 43.75%\n",
            "Epoch [4/15], Step [700/1096], Loss: 1.0331, Accuracy: 53.12%\n",
            "Epoch [4/15], Step [800/1096], Loss: 1.0502, Accuracy: 46.88%\n",
            "Epoch [4/15], Step [900/1096], Loss: 1.0185, Accuracy: 59.38%\n",
            "Epoch [4/15], Step [1000/1096], Loss: 1.1151, Accuracy: 40.62%\n",
            "Epoch [5/15], Step [100/1096], Loss: 1.1824, Accuracy: 31.25%\n",
            "Epoch [5/15], Step [200/1096], Loss: 1.0164, Accuracy: 59.38%\n",
            "Epoch [5/15], Step [300/1096], Loss: 1.1144, Accuracy: 28.12%\n",
            "Epoch [5/15], Step [400/1096], Loss: 1.0630, Accuracy: 43.75%\n",
            "Epoch [5/15], Step [500/1096], Loss: 1.0334, Accuracy: 50.00%\n",
            "Epoch [5/15], Step [600/1096], Loss: 1.0794, Accuracy: 40.62%\n",
            "Epoch [5/15], Step [700/1096], Loss: 1.1052, Accuracy: 34.38%\n",
            "Epoch [5/15], Step [800/1096], Loss: 1.0140, Accuracy: 62.50%\n",
            "Epoch [5/15], Step [900/1096], Loss: 1.1390, Accuracy: 28.12%\n",
            "Epoch [5/15], Step [1000/1096], Loss: 1.0719, Accuracy: 43.75%\n",
            "Epoch [6/15], Step [100/1096], Loss: 1.0695, Accuracy: 37.50%\n",
            "Epoch [6/15], Step [200/1096], Loss: 1.1139, Accuracy: 43.75%\n",
            "Epoch [6/15], Step [300/1096], Loss: 1.0482, Accuracy: 53.12%\n",
            "Epoch [6/15], Step [400/1096], Loss: 1.0883, Accuracy: 40.62%\n",
            "Epoch [6/15], Step [500/1096], Loss: 1.0533, Accuracy: 37.50%\n",
            "Epoch [6/15], Step [600/1096], Loss: 1.0560, Accuracy: 34.38%\n",
            "Epoch [6/15], Step [700/1096], Loss: 1.0200, Accuracy: 56.25%\n",
            "Epoch [6/15], Step [800/1096], Loss: 1.0940, Accuracy: 37.50%\n",
            "Epoch [6/15], Step [900/1096], Loss: 1.0497, Accuracy: 50.00%\n",
            "Epoch [6/15], Step [1000/1096], Loss: 1.0550, Accuracy: 43.75%\n",
            "Epoch [7/15], Step [100/1096], Loss: 1.0794, Accuracy: 34.38%\n",
            "Epoch [7/15], Step [200/1096], Loss: 1.0521, Accuracy: 43.75%\n",
            "Epoch [7/15], Step [300/1096], Loss: 1.0762, Accuracy: 53.12%\n",
            "Epoch [7/15], Step [400/1096], Loss: 1.0080, Accuracy: 37.50%\n",
            "Epoch [7/15], Step [500/1096], Loss: 0.9632, Accuracy: 53.12%\n",
            "Epoch [7/15], Step [600/1096], Loss: 1.1011, Accuracy: 40.62%\n",
            "Epoch [7/15], Step [700/1096], Loss: 0.9975, Accuracy: 40.62%\n",
            "Epoch [7/15], Step [800/1096], Loss: 0.9981, Accuracy: 53.12%\n",
            "Epoch [7/15], Step [900/1096], Loss: 0.9927, Accuracy: 46.88%\n",
            "Epoch [7/15], Step [1000/1096], Loss: 1.0128, Accuracy: 46.88%\n",
            "Epoch [8/15], Step [100/1096], Loss: 0.9777, Accuracy: 43.75%\n",
            "Epoch [8/15], Step [200/1096], Loss: 0.9272, Accuracy: 62.50%\n",
            "Epoch [8/15], Step [300/1096], Loss: 0.9218, Accuracy: 53.12%\n",
            "Epoch [8/15], Step [400/1096], Loss: 1.0517, Accuracy: 37.50%\n",
            "Epoch [8/15], Step [500/1096], Loss: 0.9414, Accuracy: 56.25%\n",
            "Epoch [8/15], Step [600/1096], Loss: 0.8466, Accuracy: 53.12%\n",
            "Epoch [8/15], Step [700/1096], Loss: 0.9094, Accuracy: 56.25%\n",
            "Epoch [8/15], Step [800/1096], Loss: 0.9502, Accuracy: 65.62%\n",
            "Epoch [8/15], Step [900/1096], Loss: 0.9353, Accuracy: 31.25%\n",
            "Epoch [8/15], Step [1000/1096], Loss: 1.0220, Accuracy: 50.00%\n",
            "Epoch [9/15], Step [100/1096], Loss: 0.9553, Accuracy: 43.75%\n",
            "Epoch [9/15], Step [200/1096], Loss: 1.0123, Accuracy: 50.00%\n",
            "Epoch [9/15], Step [300/1096], Loss: 0.7186, Accuracy: 71.88%\n",
            "Epoch [9/15], Step [400/1096], Loss: 0.8960, Accuracy: 56.25%\n",
            "Epoch [9/15], Step [500/1096], Loss: 1.0240, Accuracy: 46.88%\n",
            "Epoch [9/15], Step [600/1096], Loss: 0.9454, Accuracy: 59.38%\n",
            "Epoch [9/15], Step [700/1096], Loss: 0.9177, Accuracy: 46.88%\n",
            "Epoch [9/15], Step [800/1096], Loss: 0.9395, Accuracy: 53.12%\n",
            "Epoch [9/15], Step [900/1096], Loss: 1.1432, Accuracy: 37.50%\n",
            "Epoch [9/15], Step [1000/1096], Loss: 0.9221, Accuracy: 37.50%\n",
            "Epoch [10/15], Step [100/1096], Loss: 1.0116, Accuracy: 34.38%\n",
            "Epoch [10/15], Step [200/1096], Loss: 0.9241, Accuracy: 50.00%\n",
            "Epoch [10/15], Step [300/1096], Loss: 0.8560, Accuracy: 71.88%\n",
            "Epoch [10/15], Step [400/1096], Loss: 0.7612, Accuracy: 59.38%\n",
            "Epoch [10/15], Step [500/1096], Loss: 0.9018, Accuracy: 53.12%\n",
            "Epoch [10/15], Step [600/1096], Loss: 0.7355, Accuracy: 65.62%\n",
            "Epoch [10/15], Step [700/1096], Loss: 0.8822, Accuracy: 53.12%\n",
            "Epoch [10/15], Step [800/1096], Loss: 0.7811, Accuracy: 65.62%\n",
            "Epoch [10/15], Step [900/1096], Loss: 0.8478, Accuracy: 50.00%\n",
            "Epoch [10/15], Step [1000/1096], Loss: 0.7829, Accuracy: 62.50%\n",
            "Epoch [11/15], Step [100/1096], Loss: 0.8393, Accuracy: 59.38%\n",
            "Epoch [11/15], Step [200/1096], Loss: 0.7575, Accuracy: 65.62%\n",
            "Epoch [11/15], Step [300/1096], Loss: 0.7941, Accuracy: 59.38%\n",
            "Epoch [11/15], Step [400/1096], Loss: 1.0067, Accuracy: 37.50%\n",
            "Epoch [11/15], Step [500/1096], Loss: 0.8966, Accuracy: 68.75%\n",
            "Epoch [11/15], Step [600/1096], Loss: 0.8196, Accuracy: 59.38%\n",
            "Epoch [11/15], Step [700/1096], Loss: 0.7439, Accuracy: 65.62%\n",
            "Epoch [11/15], Step [800/1096], Loss: 0.8169, Accuracy: 62.50%\n",
            "Epoch [11/15], Step [900/1096], Loss: 0.8953, Accuracy: 56.25%\n",
            "Epoch [11/15], Step [1000/1096], Loss: 0.7463, Accuracy: 71.88%\n",
            "Epoch [12/15], Step [100/1096], Loss: 0.9079, Accuracy: 65.62%\n",
            "Epoch [12/15], Step [200/1096], Loss: 0.7944, Accuracy: 62.50%\n",
            "Epoch [12/15], Step [300/1096], Loss: 0.8141, Accuracy: 65.62%\n",
            "Epoch [12/15], Step [400/1096], Loss: 0.7297, Accuracy: 62.50%\n",
            "Epoch [12/15], Step [500/1096], Loss: 0.8401, Accuracy: 56.25%\n",
            "Epoch [12/15], Step [600/1096], Loss: 0.7380, Accuracy: 71.88%\n",
            "Epoch [12/15], Step [700/1096], Loss: 0.9302, Accuracy: 56.25%\n",
            "Epoch [12/15], Step [800/1096], Loss: 0.8505, Accuracy: 68.75%\n",
            "Epoch [12/15], Step [900/1096], Loss: 0.9787, Accuracy: 53.12%\n",
            "Epoch [12/15], Step [1000/1096], Loss: 0.7361, Accuracy: 65.62%\n",
            "Epoch [13/15], Step [100/1096], Loss: 0.6034, Accuracy: 71.88%\n",
            "Epoch [13/15], Step [200/1096], Loss: 0.7224, Accuracy: 62.50%\n",
            "Epoch [13/15], Step [300/1096], Loss: 1.0458, Accuracy: 50.00%\n",
            "Epoch [13/15], Step [400/1096], Loss: 0.7094, Accuracy: 59.38%\n",
            "Epoch [13/15], Step [500/1096], Loss: 0.9145, Accuracy: 62.50%\n",
            "Epoch [13/15], Step [600/1096], Loss: 0.6176, Accuracy: 68.75%\n",
            "Epoch [13/15], Step [700/1096], Loss: 0.8781, Accuracy: 62.50%\n",
            "Epoch [13/15], Step [800/1096], Loss: 0.6243, Accuracy: 81.25%\n",
            "Epoch [13/15], Step [900/1096], Loss: 0.6861, Accuracy: 62.50%\n",
            "Epoch [13/15], Step [1000/1096], Loss: 0.8077, Accuracy: 59.38%\n",
            "Epoch [14/15], Step [100/1096], Loss: 0.6528, Accuracy: 62.50%\n",
            "Epoch [14/15], Step [200/1096], Loss: 0.7181, Accuracy: 62.50%\n",
            "Epoch [14/15], Step [300/1096], Loss: 0.4972, Accuracy: 84.38%\n",
            "Epoch [14/15], Step [400/1096], Loss: 0.7560, Accuracy: 53.12%\n",
            "Epoch [14/15], Step [500/1096], Loss: 0.7499, Accuracy: 71.88%\n",
            "Epoch [14/15], Step [600/1096], Loss: 0.6063, Accuracy: 78.12%\n",
            "Epoch [14/15], Step [700/1096], Loss: 0.7728, Accuracy: 62.50%\n",
            "Epoch [14/15], Step [800/1096], Loss: 0.6984, Accuracy: 65.62%\n",
            "Epoch [14/15], Step [900/1096], Loss: 0.7326, Accuracy: 68.75%\n",
            "Epoch [14/15], Step [1000/1096], Loss: 0.7718, Accuracy: 53.12%\n",
            "Epoch [15/15], Step [100/1096], Loss: 1.0829, Accuracy: 59.38%\n",
            "Epoch [15/15], Step [200/1096], Loss: 0.6062, Accuracy: 75.00%\n",
            "Epoch [15/15], Step [300/1096], Loss: 0.9399, Accuracy: 56.25%\n",
            "Epoch [15/15], Step [400/1096], Loss: 0.6324, Accuracy: 75.00%\n",
            "Epoch [15/15], Step [500/1096], Loss: 0.6721, Accuracy: 71.88%\n",
            "Epoch [15/15], Step [600/1096], Loss: 0.7119, Accuracy: 71.88%\n",
            "Epoch [15/15], Step [700/1096], Loss: 0.6372, Accuracy: 62.50%\n",
            "Epoch [15/15], Step [800/1096], Loss: 0.5645, Accuracy: 75.00%\n",
            "Epoch [15/15], Step [900/1096], Loss: 0.8347, Accuracy: 59.38%\n",
            "Epoch [15/15], Step [1000/1096], Loss: 0.5769, Accuracy: 78.12%\n",
            "######## Training Finished in 9921.808039426804 seconds ###########\n"
          ]
        }
      ],
      "source": [
        "device = torch.device(\"cuda:0\" if torch.cuda.is_available() else \"cpu\")\n",
        "print(\"Device: {}\".format(device))\n",
        "model.to(device)\n",
        "\n",
        "num_epochs = 15\n",
        "total_steps = len(train_loader)\n",
        "t1 = time.time()\n",
        "for epoch in range(num_epochs):\n",
        "    for i, data in enumerate(train_loader):\n",
        "        images, labels = data[0].to(device), data[1].to(device)\n",
        "        \n",
        "        # Forward pass\n",
        "        outputs = model(images)\n",
        "        loss = criterion(outputs, labels)\n",
        "        \n",
        "        # Backprop and optimisation\n",
        "        optimizer.zero_grad()\n",
        "        loss.backward()\n",
        "        optimizer.step()\n",
        "        \n",
        "        # Train accuracy\n",
        "        total = labels.size(0)\n",
        "        _,predicted = torch.max(outputs.data, 1)\n",
        "        correct = (predicted == labels).sum().item()\n",
        "        if (i + 1) % 100 == 0:\n",
        "            print('Epoch [{}/{}], Step [{}/{}], Loss: {:.4f}, Accuracy: {:.2f}%'\n",
        "                .format(epoch + 1, num_epochs, i + 1, total_steps, loss.item(),\n",
        "                    (correct / total) * 100))\n",
        "            \n",
        "print(\"######## Training Finished in {} seconds ###########\".format(time.time()-t1))"
      ]
    },
    {
      "cell_type": "code",
      "execution_count": null,
      "metadata": {
        "id": "9Ha_rDvC6di2"
      },
      "outputs": [],
      "source": []
    },
    {
      "cell_type": "code",
      "execution_count": null,
      "metadata": {
        "id": "3NTcIdKW5PPV"
      },
      "outputs": [],
      "source": []
    }
  ],
  "metadata": {
    "colab": {
      "provenance": [],
      "collapsed_sections": []
    },
    "kernelspec": {
      "display_name": "Python 3 (ipykernel)",
      "language": "python",
      "name": "python3"
    },
    "language_info": {
      "codemirror_mode": {
        "name": "ipython",
        "version": 3
      },
      "file_extension": ".py",
      "mimetype": "text/x-python",
      "name": "python",
      "nbconvert_exporter": "python",
      "pygments_lexer": "ipython3",
      "version": "3.9.13"
    },
    "accelerator": "GPU",
    "gpuClass": "standard"
  },
  "nbformat": 4,
  "nbformat_minor": 0
}