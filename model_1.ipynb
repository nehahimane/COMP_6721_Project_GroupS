{
  "cells": [
    {
      "cell_type": "markdown",
      "metadata": {
        "id": "view-in-github",
        "colab_type": "text"
      },
      "source": [
        "<a href=\"https://colab.research.google.com/github/nehahimane/COMP_6721_Project_GroupS/blob/AI_Hardik/model_1.ipynb\" target=\"_parent\"><img src=\"https://colab.research.google.com/assets/colab-badge.svg\" alt=\"Open In Colab\"/></a>"
      ]
    },
    {
      "cell_type": "code",
      "source": [
        "from google.colab import drive\n",
        "drive.mount('/content/drive')"
      ],
      "metadata": {
        "colab": {
          "base_uri": "https://localhost:8080/"
        },
        "id": "PVOrkF45VaXY",
        "outputId": "3a1e7bcb-e382-409b-87ca-6a9361cbf07c"
      },
      "id": "PVOrkF45VaXY",
      "execution_count": null,
      "outputs": [
        {
          "output_type": "stream",
          "name": "stdout",
          "text": [
            "Mounted at /content/drive\n"
          ]
        }
      ]
    },
    {
      "cell_type": "code",
      "source": [
        "import os\n",
        "os.environ['KAGGLE_CONFIG_DIR'] = \"/content/drive/MyDrive/AI_Datasets\""
      ],
      "metadata": {
        "id": "KPHqNWWXWCFj"
      },
      "id": "KPHqNWWXWCFj",
      "execution_count": null,
      "outputs": []
    },
    {
      "cell_type": "code",
      "source": [
        "%cd /content/drive/MyDrive/AI_Datasets"
      ],
      "metadata": {
        "colab": {
          "base_uri": "https://localhost:8080/"
        },
        "id": "PX76s9GAWK-2",
        "outputId": "a6dfa8a7-8d3e-482a-f409-d258bbda8d63"
      },
      "id": "PX76s9GAWK-2",
      "execution_count": null,
      "outputs": [
        {
          "output_type": "stream",
          "name": "stdout",
          "text": [
            "/content/drive/MyDrive/AI_Datasets\n"
          ]
        }
      ]
    },
    {
      "cell_type": "code",
      "source": [
        "!kaggle datasets download -d nightfury007/fercustomdataset-3classes"
      ],
      "metadata": {
        "colab": {
          "base_uri": "https://localhost:8080/"
        },
        "id": "RgqUTZG3WW0m",
        "outputId": "2168f1dd-67e3-4fe6-88fd-f6993924e551"
      },
      "id": "RgqUTZG3WW0m",
      "execution_count": null,
      "outputs": [
        {
          "output_type": "stream",
          "name": "stdout",
          "text": [
            "Downloading fercustomdataset-3classes.zip to /content/drive/MyDrive/AI_Datasets\n",
            " 81% 67.0M/83.1M [00:01<00:00, 76.3MB/s]\n",
            "100% 83.1M/83.1M [00:01<00:00, 72.9MB/s]\n"
          ]
        }
      ]
    },
    {
      "cell_type": "code",
      "source": [
        "import zipfile\n",
        "for file in os.listdir():\n",
        "    if file.endswith(\".zip\"):\n",
        "        with zipfile.ZipFile(file, \"r\") as zip_file:\n",
        "            zip_file.extractall()\n",
        "        os.remove(file)"
      ],
      "metadata": {
        "id": "deRA-1bJWcrQ"
      },
      "id": "deRA-1bJWcrQ",
      "execution_count": null,
      "outputs": []
    },
    {
      "cell_type": "code",
      "execution_count": null,
      "id": "cf9fc5d2",
      "metadata": {
        "id": "cf9fc5d2"
      },
      "outputs": [],
      "source": [
        "import os\n",
        "import torch\n",
        "import torchvision\n",
        "import tarfile\n",
        "import torch.nn as nn\n",
        "import numpy as np\n",
        "import torch.nn.functional as F\n",
        "from torchvision.datasets.utils import download_url\n",
        "from torchvision.datasets import ImageFolder\n",
        "from torch.utils.data import DataLoader\n",
        "import torchvision.transforms as transforms\n",
        "from torch.utils.data import random_split\n",
        "from torchvision.utils import make_grid\n",
        "import matplotlib\n",
        "from torch.utils.data import Dataset, DataLoader\n",
        "import matplotlib.pyplot as plt\n",
        "from torch.utils.data.sampler import SubsetRandomSampler\n",
        "import glob\n",
        "import torch.optim as optim\n",
        "import time\n",
        "import cv2\n",
        "import torchvision.datasets as datasets\n",
        "%matplotlib inline"
      ]
    },
    {
      "cell_type": "code",
      "execution_count": null,
      "id": "5f6081cb",
      "metadata": {
        "colab": {
          "base_uri": "https://localhost:8080/"
        },
        "id": "5f6081cb",
        "outputId": "30593e64-aa32-4fff-9e9d-11fc487e8115"
      },
      "outputs": [
        {
          "output_type": "stream",
          "name": "stdout",
          "text": [
            "['Disappointed', 'interested', 'neutral']\n"
          ]
        }
      ],
      "source": [
        "data_dir = '/content/drive/MyDrive/AI_Datasets/FER_Custom_Dataset'\n",
        "IMAGE_DIM=256\n",
        "\n",
        "print(os.listdir(data_dir))"
      ]
    },
    {
      "cell_type": "code",
      "execution_count": null,
      "id": "8ba6beb6",
      "metadata": {
        "id": "8ba6beb6"
      },
      "outputs": [],
      "source": [
        "def load_data(path, test_split, batch_size, input_size, shuffle_dataset=True,random_seed=42):\n",
        "    \n",
        "    transform_dict ={'src': transforms.Compose([transforms.Resize(IMAGE_DIM), \n",
        "                                                transforms.RandomHorizontalFlip(), \n",
        "                                                transforms.ToTensor(),\n",
        "                                                transforms.Normalize(mean=[0.485, 0.456, 0.406],\n",
        "                                                                     std=[0.229, 0.224, 0.225]\n",
        "                                                                    )\n",
        "                                               ]\n",
        "                                              )\n",
        "                    }\n",
        "    \n",
        "    dataset = datasets.ImageFolder(data_dir, transform=transform_dict.get('src'))\n",
        "    dataset_size = len(dataset)\n",
        "    train_test_indices = list(range(dataset_size))\n",
        "    test_split = int(np.floor(test_split * dataset_size))\n",
        "    \n",
        "    if shuffle_dataset :\n",
        "        np.random.seed(random_seed)\n",
        "        np.random.shuffle(train_test_indices)\n",
        "    train_indices, test_indices = train_test_indices[test_split:], train_test_indices[:test_split]\n",
        "    \n",
        "\n",
        "    # Creating PT data samplers and loaders:\n",
        "    train_sampler = SubsetRandomSampler(train_indices)\n",
        "    test_sampler = SubsetRandomSampler(test_indices)\n",
        "\n",
        "    data_loader_train = torch.utils.data.DataLoader(dataset, batch_size=batch_size, \n",
        "                                              sampler=train_sampler)\n",
        "    data_loader_test = torch.utils.data.DataLoader(dataset, batch_size=batch_size,\n",
        "                                                    sampler=test_sampler)\n",
        "    \n",
        "    return data_loader_train, data_loader_test"
      ]
    },
    {
      "cell_type": "code",
      "execution_count": null,
      "id": "57bbfa20",
      "metadata": {
        "colab": {
          "base_uri": "https://localhost:8080/"
        },
        "id": "57bbfa20",
        "outputId": "e3fb0679-0d65-4b47-81fc-c44dfa4fe68e"
      },
      "outputs": [
        {
          "output_type": "stream",
          "name": "stdout",
          "text": [
            "1096 274\n"
          ]
        }
      ],
      "source": [
        "train_loader, test_loader=load_data(data_dir,0.2,32,(64,64))\n",
        "\n",
        "print(len(train_loader), len(test_loader))"
      ]
    },
    {
      "cell_type": "code",
      "execution_count": null,
      "id": "380e6c84",
      "metadata": {
        "colab": {
          "base_uri": "https://localhost:8080/"
        },
        "id": "380e6c84",
        "outputId": "bf2c91a9-b127-4805-c0e4-07af04814f97"
      },
      "outputs": [
        {
          "output_type": "stream",
          "name": "stderr",
          "text": [
            "Downloading: \"https://github.com/pytorch/vision/zipball/v0.10.0\" to /root/.cache/torch/hub/v0.10.0.zip\n",
            "/usr/local/lib/python3.7/dist-packages/torchvision/models/_utils.py:209: UserWarning: The parameter 'pretrained' is deprecated since 0.13 and will be removed in 0.15, please use 'weights' instead.\n",
            "  f\"The parameter '{pretrained_param}' is deprecated since 0.13 and will be removed in 0.15, \"\n",
            "/usr/local/lib/python3.7/dist-packages/torchvision/models/_utils.py:223: UserWarning: Arguments other than a weight enum or `None` for 'weights' are deprecated since 0.13 and will be removed in 0.15. The current behavior is equivalent to passing `weights=None`.\n",
            "  warnings.warn(msg)\n"
          ]
        }
      ],
      "source": [
        "######## Write your code here ##############\n",
        "model = torch.hub.load('pytorch/vision:v0.10.0', 'alexnet', pretrained=False)\n",
        "criterion = torch.nn.CrossEntropyLoss()\n",
        "optimizer = torch.optim.Adam(model.parameters(), lr=0.001)\n"
      ]
    },
    {
      "cell_type": "code",
      "execution_count": null,
      "id": "52da3249",
      "metadata": {
        "colab": {
          "base_uri": "https://localhost:8080/"
        },
        "id": "52da3249",
        "outputId": "90711be4-04d6-4d61-9b66-227e31261c4c"
      },
      "outputs": [
        {
          "output_type": "stream",
          "name": "stdout",
          "text": [
            "Device: cpu\n",
            "Epoch [1/1], Step [100/1096], Loss: 1.0802, Accuracy: 31.25%\n",
            "Epoch [1/1], Step [200/1096], Loss: 1.1267, Accuracy: 37.50%\n",
            "Epoch [1/1], Step [300/1096], Loss: 1.0945, Accuracy: 40.62%\n",
            "Epoch [1/1], Step [400/1096], Loss: 1.1400, Accuracy: 31.25%\n",
            "Epoch [1/1], Step [500/1096], Loss: 1.0620, Accuracy: 50.00%\n",
            "Epoch [1/1], Step [600/1096], Loss: 1.0996, Accuracy: 34.38%\n",
            "Epoch [1/1], Step [700/1096], Loss: 1.0634, Accuracy: 50.00%\n",
            "Epoch [1/1], Step [800/1096], Loss: 1.0626, Accuracy: 50.00%\n",
            "Epoch [1/1], Step [900/1096], Loss: 1.0503, Accuracy: 53.12%\n",
            "Epoch [1/1], Step [1000/1096], Loss: 1.0674, Accuracy: 50.00%\n",
            "######## Training Finished in 4414.699099779129 seconds ###########\n"
          ]
        }
      ],
      "source": [
        "device = torch.device(\"cuda:0\" if torch.cuda.is_available() else \"cpu\")\n",
        "print(\"Device: {}\".format(device))\n",
        "model.to(device)\n",
        "\n",
        "num_epochs = 1\n",
        "total_steps = len(train_loader)\n",
        "t1 = time.time()\n",
        "for epoch in range(num_epochs):\n",
        "    for i, data in enumerate(train_loader):\n",
        "        images, labels = data[0].to(device), data[1].to(device)\n",
        "        \n",
        "        # Forward pass\n",
        "        outputs = model(images)\n",
        "        loss = criterion(outputs, labels)\n",
        "        \n",
        "        # Backprop and optimisation\n",
        "        optimizer.zero_grad()\n",
        "        loss.backward()\n",
        "        optimizer.step()\n",
        "        \n",
        "        # Train accuracy\n",
        "        total = labels.size(0)\n",
        "        _,predicted = torch.max(outputs.data, 1)\n",
        "        correct = (predicted == labels).sum().item()\n",
        "        if (i + 1) % 100 == 0:\n",
        "            print('Epoch [{}/{}], Step [{}/{}], Loss: {:.4f}, Accuracy: {:.2f}%'\n",
        "                .format(epoch + 1, num_epochs, i + 1, total_steps, loss.item(),\n",
        "                    (correct / total) * 100))\n",
        "            \n",
        "print(\"######## Training Finished in {} seconds ###########\".format(time.time()-t1))"
      ]
    },
    {
      "cell_type": "code",
      "execution_count": null,
      "id": "cb243bc6",
      "metadata": {
        "id": "cb243bc6"
      },
      "outputs": [],
      "source": []
    }
  ],
  "metadata": {
    "kernelspec": {
      "display_name": "Python 3 (ipykernel)",
      "language": "python",
      "name": "python3"
    },
    "language_info": {
      "codemirror_mode": {
        "name": "ipython",
        "version": 3
      },
      "file_extension": ".py",
      "mimetype": "text/x-python",
      "name": "python",
      "nbconvert_exporter": "python",
      "pygments_lexer": "ipython3",
      "version": "3.9.12"
    },
    "colab": {
      "provenance": [],
      "collapsed_sections": [],
      "include_colab_link": true
    }
  },
  "nbformat": 4,
  "nbformat_minor": 5
}