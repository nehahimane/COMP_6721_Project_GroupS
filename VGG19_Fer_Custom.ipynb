{
  "nbformat": 4,
  "nbformat_minor": 0,
  "metadata": {
    "colab": {
      "provenance": [],
      "collapsed_sections": [],
      "authorship_tag": "ABX9TyMirpuAgaF+tKkP2/+75tqK",
      "include_colab_link": true
    },
    "kernelspec": {
      "name": "python3",
      "display_name": "Python 3"
    },
    "language_info": {
      "name": "python"
    },
    "accelerator": "GPU",
    "gpuClass": "standard"
  },
  "cells": [
    {
      "cell_type": "markdown",
      "metadata": {
        "id": "view-in-github",
        "colab_type": "text"
      },
      "source": [
        "<a href=\"https://colab.research.google.com/github/nehahimane/COMP_6721_Project_GroupS/blob/AI_Hardik/VGG19_Fer_Custom.ipynb\" target=\"_parent\"><img src=\"https://colab.research.google.com/assets/colab-badge.svg\" alt=\"Open In Colab\"/></a>"
      ]
    },
    {
      "cell_type": "code",
      "execution_count": null,
      "metadata": {
        "colab": {
          "base_uri": "https://localhost:8080/"
        },
        "id": "iC4iKtnO48wG",
        "outputId": "b2826dbb-c73e-4452-c58a-2fff83e5d409"
      },
      "outputs": [
        {
          "output_type": "stream",
          "name": "stdout",
          "text": [
            "Drive already mounted at /content/drive; to attempt to forcibly remount, call drive.mount(\"/content/drive\", force_remount=True).\n"
          ]
        }
      ],
      "source": [
        "from google.colab import drive\n",
        "drive.mount('/content/drive')\n"
      ]
    },
    {
      "cell_type": "code",
      "source": [
        "import os\n",
        "os.environ['KAGGLE_CONFIG_DIR'] = \"/content/dataset\""
      ],
      "metadata": {
        "id": "5fHbmIpJ5ddh"
      },
      "execution_count": null,
      "outputs": []
    },
    {
      "cell_type": "code",
      "source": [
        "%cd /content/drive/MyDrive/AI_Datasets"
      ],
      "metadata": {
        "colab": {
          "base_uri": "https://localhost:8080/"
        },
        "id": "wZofQw776Glp",
        "outputId": "4640c1f3-2ba4-4b11-a748-0ac04c34afce"
      },
      "execution_count": null,
      "outputs": [
        {
          "output_type": "stream",
          "name": "stdout",
          "text": [
            "/content/drive/MyDrive/AI_Datasets\n"
          ]
        }
      ]
    },
    {
      "cell_type": "code",
      "source": [
        "!kaggle datasets download -d nightfury007/fercustomdataset-3classes"
      ],
      "metadata": {
        "colab": {
          "base_uri": "https://localhost:8080/"
        },
        "id": "EtcyEQNd6HVQ",
        "outputId": "1374936b-3467-40db-e216-685e212dd96d"
      },
      "execution_count": null,
      "outputs": [
        {
          "output_type": "stream",
          "name": "stdout",
          "text": [
            "Downloading fercustomdataset-3classes.zip to /content/drive/MyDrive/AI_Datasets\n",
            "100% 83.0M/83.1M [00:00<00:00, 159MB/s]\n",
            "100% 83.1M/83.1M [00:00<00:00, 142MB/s]\n"
          ]
        }
      ]
    },
    {
      "cell_type": "code",
      "source": [
        "import zipfile\n",
        "for file in os.listdir():\n",
        "    if file.endswith(\".zip\"):\n",
        "        with zipfile.ZipFile(file, \"r\") as zip_file:\n",
        "            zip_file.extractall()\n",
        "        os.remove(file)"
      ],
      "metadata": {
        "id": "gxMzgZrg6LS6"
      },
      "execution_count": null,
      "outputs": []
    },
    {
      "cell_type": "code",
      "source": [
        "!pip install -q kaggle"
      ],
      "metadata": {
        "id": "qmaKwfPToefQ"
      },
      "execution_count": 1,
      "outputs": []
    },
    {
      "cell_type": "code",
      "source": [
        "from google.colab import files\n",
        "files.upload()"
      ],
      "metadata": {
        "colab": {
          "base_uri": "https://localhost:8080/",
          "height": 90
        },
        "id": "G7rJBbXnojr_",
        "outputId": "a2d7878b-7a12-4c1d-c5f0-d54b5e40d44e"
      },
      "execution_count": 2,
      "outputs": [
        {
          "output_type": "display_data",
          "data": {
            "text/plain": [
              "<IPython.core.display.HTML object>"
            ],
            "text/html": [
              "\n",
              "     <input type=\"file\" id=\"files-38885f67-d29f-4245-a940-e35f6ccc89bd\" name=\"files[]\" multiple disabled\n",
              "        style=\"border:none\" />\n",
              "     <output id=\"result-38885f67-d29f-4245-a940-e35f6ccc89bd\">\n",
              "      Upload widget is only available when the cell has been executed in the\n",
              "      current browser session. Please rerun this cell to enable.\n",
              "      </output>\n",
              "      <script>// Copyright 2017 Google LLC\n",
              "//\n",
              "// Licensed under the Apache License, Version 2.0 (the \"License\");\n",
              "// you may not use this file except in compliance with the License.\n",
              "// You may obtain a copy of the License at\n",
              "//\n",
              "//      http://www.apache.org/licenses/LICENSE-2.0\n",
              "//\n",
              "// Unless required by applicable law or agreed to in writing, software\n",
              "// distributed under the License is distributed on an \"AS IS\" BASIS,\n",
              "// WITHOUT WARRANTIES OR CONDITIONS OF ANY KIND, either express or implied.\n",
              "// See the License for the specific language governing permissions and\n",
              "// limitations under the License.\n",
              "\n",
              "/**\n",
              " * @fileoverview Helpers for google.colab Python module.\n",
              " */\n",
              "(function(scope) {\n",
              "function span(text, styleAttributes = {}) {\n",
              "  const element = document.createElement('span');\n",
              "  element.textContent = text;\n",
              "  for (const key of Object.keys(styleAttributes)) {\n",
              "    element.style[key] = styleAttributes[key];\n",
              "  }\n",
              "  return element;\n",
              "}\n",
              "\n",
              "// Max number of bytes which will be uploaded at a time.\n",
              "const MAX_PAYLOAD_SIZE = 100 * 1024;\n",
              "\n",
              "function _uploadFiles(inputId, outputId) {\n",
              "  const steps = uploadFilesStep(inputId, outputId);\n",
              "  const outputElement = document.getElementById(outputId);\n",
              "  // Cache steps on the outputElement to make it available for the next call\n",
              "  // to uploadFilesContinue from Python.\n",
              "  outputElement.steps = steps;\n",
              "\n",
              "  return _uploadFilesContinue(outputId);\n",
              "}\n",
              "\n",
              "// This is roughly an async generator (not supported in the browser yet),\n",
              "// where there are multiple asynchronous steps and the Python side is going\n",
              "// to poll for completion of each step.\n",
              "// This uses a Promise to block the python side on completion of each step,\n",
              "// then passes the result of the previous step as the input to the next step.\n",
              "function _uploadFilesContinue(outputId) {\n",
              "  const outputElement = document.getElementById(outputId);\n",
              "  const steps = outputElement.steps;\n",
              "\n",
              "  const next = steps.next(outputElement.lastPromiseValue);\n",
              "  return Promise.resolve(next.value.promise).then((value) => {\n",
              "    // Cache the last promise value to make it available to the next\n",
              "    // step of the generator.\n",
              "    outputElement.lastPromiseValue = value;\n",
              "    return next.value.response;\n",
              "  });\n",
              "}\n",
              "\n",
              "/**\n",
              " * Generator function which is called between each async step of the upload\n",
              " * process.\n",
              " * @param {string} inputId Element ID of the input file picker element.\n",
              " * @param {string} outputId Element ID of the output display.\n",
              " * @return {!Iterable<!Object>} Iterable of next steps.\n",
              " */\n",
              "function* uploadFilesStep(inputId, outputId) {\n",
              "  const inputElement = document.getElementById(inputId);\n",
              "  inputElement.disabled = false;\n",
              "\n",
              "  const outputElement = document.getElementById(outputId);\n",
              "  outputElement.innerHTML = '';\n",
              "\n",
              "  const pickedPromise = new Promise((resolve) => {\n",
              "    inputElement.addEventListener('change', (e) => {\n",
              "      resolve(e.target.files);\n",
              "    });\n",
              "  });\n",
              "\n",
              "  const cancel = document.createElement('button');\n",
              "  inputElement.parentElement.appendChild(cancel);\n",
              "  cancel.textContent = 'Cancel upload';\n",
              "  const cancelPromise = new Promise((resolve) => {\n",
              "    cancel.onclick = () => {\n",
              "      resolve(null);\n",
              "    };\n",
              "  });\n",
              "\n",
              "  // Wait for the user to pick the files.\n",
              "  const files = yield {\n",
              "    promise: Promise.race([pickedPromise, cancelPromise]),\n",
              "    response: {\n",
              "      action: 'starting',\n",
              "    }\n",
              "  };\n",
              "\n",
              "  cancel.remove();\n",
              "\n",
              "  // Disable the input element since further picks are not allowed.\n",
              "  inputElement.disabled = true;\n",
              "\n",
              "  if (!files) {\n",
              "    return {\n",
              "      response: {\n",
              "        action: 'complete',\n",
              "      }\n",
              "    };\n",
              "  }\n",
              "\n",
              "  for (const file of files) {\n",
              "    const li = document.createElement('li');\n",
              "    li.append(span(file.name, {fontWeight: 'bold'}));\n",
              "    li.append(span(\n",
              "        `(${file.type || 'n/a'}) - ${file.size} bytes, ` +\n",
              "        `last modified: ${\n",
              "            file.lastModifiedDate ? file.lastModifiedDate.toLocaleDateString() :\n",
              "                                    'n/a'} - `));\n",
              "    const percent = span('0% done');\n",
              "    li.appendChild(percent);\n",
              "\n",
              "    outputElement.appendChild(li);\n",
              "\n",
              "    const fileDataPromise = new Promise((resolve) => {\n",
              "      const reader = new FileReader();\n",
              "      reader.onload = (e) => {\n",
              "        resolve(e.target.result);\n",
              "      };\n",
              "      reader.readAsArrayBuffer(file);\n",
              "    });\n",
              "    // Wait for the data to be ready.\n",
              "    let fileData = yield {\n",
              "      promise: fileDataPromise,\n",
              "      response: {\n",
              "        action: 'continue',\n",
              "      }\n",
              "    };\n",
              "\n",
              "    // Use a chunked sending to avoid message size limits. See b/62115660.\n",
              "    let position = 0;\n",
              "    do {\n",
              "      const length = Math.min(fileData.byteLength - position, MAX_PAYLOAD_SIZE);\n",
              "      const chunk = new Uint8Array(fileData, position, length);\n",
              "      position += length;\n",
              "\n",
              "      const base64 = btoa(String.fromCharCode.apply(null, chunk));\n",
              "      yield {\n",
              "        response: {\n",
              "          action: 'append',\n",
              "          file: file.name,\n",
              "          data: base64,\n",
              "        },\n",
              "      };\n",
              "\n",
              "      let percentDone = fileData.byteLength === 0 ?\n",
              "          100 :\n",
              "          Math.round((position / fileData.byteLength) * 100);\n",
              "      percent.textContent = `${percentDone}% done`;\n",
              "\n",
              "    } while (position < fileData.byteLength);\n",
              "  }\n",
              "\n",
              "  // All done.\n",
              "  yield {\n",
              "    response: {\n",
              "      action: 'complete',\n",
              "    }\n",
              "  };\n",
              "}\n",
              "\n",
              "scope.google = scope.google || {};\n",
              "scope.google.colab = scope.google.colab || {};\n",
              "scope.google.colab._files = {\n",
              "  _uploadFiles,\n",
              "  _uploadFilesContinue,\n",
              "};\n",
              "})(self);\n",
              "</script> "
            ]
          },
          "metadata": {}
        },
        {
          "output_type": "stream",
          "name": "stdout",
          "text": [
            "Saving kaggle.json to kaggle.json\n"
          ]
        },
        {
          "output_type": "execute_result",
          "data": {
            "text/plain": [
              "{'kaggle.json': b'{\"username\":\"hardikamareliya1\",\"key\":\"0268c8e1e818b3cba6317fe09919c34a\"}'}"
            ]
          },
          "metadata": {},
          "execution_count": 2
        }
      ]
    },
    {
      "cell_type": "code",
      "source": [
        "!mkdir ~/.kaggle"
      ],
      "metadata": {
        "id": "m0yiogHDoj66"
      },
      "execution_count": 3,
      "outputs": []
    },
    {
      "cell_type": "code",
      "source": [
        "!cp kaggle.json ~/.kaggle/"
      ],
      "metadata": {
        "id": "1K-nvF3-okY_"
      },
      "execution_count": 4,
      "outputs": []
    },
    {
      "cell_type": "code",
      "source": [
        "!chmod 600 ~/.kaggle/kaggle.json"
      ],
      "metadata": {
        "id": "4zMwipkHou_W"
      },
      "execution_count": 5,
      "outputs": []
    },
    {
      "cell_type": "code",
      "source": [
        "!kaggle datasets list"
      ],
      "metadata": {
        "colab": {
          "base_uri": "https://localhost:8080/"
        },
        "id": "eRsd5yRsovWe",
        "outputId": "1888b5ce-97f8-473a-f319-d5a425d55b42"
      },
      "execution_count": 6,
      "outputs": [
        {
          "output_type": "stream",
          "name": "stdout",
          "text": [
            "ref                                                             title                                            size  lastUpdated          downloadCount  voteCount  usabilityRating  \n",
            "--------------------------------------------------------------  ----------------------------------------------  -----  -------------------  -------------  ---------  ---------------  \n",
            "akshaydattatraykhare/diabetes-dataset                           Diabetes Dataset                                  9KB  2022-10-06 08:55:25          12342        391  1.0              \n",
            "whenamancodes/covid-19-coronavirus-pandemic-dataset             COVID -19 Coronavirus Pandemic Dataset           11KB  2022-09-30 04:05:11           9863        302  1.0              \n",
            "stetsondone/video-game-sales-by-genre                           Video Game Sales by Genre                        12KB  2022-10-31 17:56:01           1105         28  1.0              \n",
            "whenamancodes/credit-card-customers-prediction                  Credit Card Customers Prediction                379KB  2022-10-30 13:03:27           1817         44  1.0              \n",
            "whenamancodes/students-performance-in-exams                     Students Performance in Exams                     9KB  2022-09-14 15:14:54          16712        311  1.0              \n",
            "akshaydattatraykhare/data-for-admission-in-the-university       Data for Admission in the University              4KB  2022-10-27 11:05:45           2431         54  1.0              \n",
            "michaelbryantds/electric-vehicle-charging-dataset               Electric Vehicle Charging Dataset                98KB  2022-11-02 01:45:23            874         39  0.9411765        \n",
            "maharshipandya/-spotify-tracks-dataset                          🎹 Spotify Tracks Dataset                          8MB  2022-10-22 14:40:15           2549         78  1.0              \n",
            "hasibalmuzdadid/global-air-pollution-dataset                    Global Air Pollution Dataset                    371KB  2022-11-08 14:43:32           1396         52  1.0              \n",
            "whenamancodes/amazon-reviews-on-women-dresses                   Amazon Reviews on Women Dresses                   3MB  2022-10-29 12:47:06            647         33  1.0              \n",
            "akshaydattatraykhare/car-details-dataset                        Car Details Dataset                              56KB  2022-10-21 06:11:56           3018         49  1.0              \n",
            "whenamancodes/international-football-from-1872-to-2022          International Football from 1872 to 2022        572KB  2022-10-30 13:27:29            725         30  0.9411765        \n",
            "whenamancodes/customer-personality-analysis                     Company's Ideal Customers | Marketing Strategy   62KB  2022-10-30 14:17:42           1139         36  1.0              \n",
            "dimitryzub/walmart-coffee-listings-from-500-stores              Walmart Coffee Listings from 500 stores          85KB  2022-10-25 09:20:12           1395         45  1.0              \n",
            "dheerajmukati/most-runs-in-cricket                              Most Runs in International cricket                4KB  2022-10-16 16:49:20            753         32  1.0              \n",
            "thedevastator/food-prices-year-by-year                          Global Food Prices Year By Year                   7KB  2022-10-30 08:49:55           1049         32  1.0              \n",
            "saikumartamminana/gold-price-prediction                         Gold Price Prediction                            41KB  2022-10-30 19:07:30           1153         26  0.8235294        \n",
            "thedevastator/udemy-courses-revenue-generation-and-course-anal  Udemy Courses                                   429KB  2022-10-17 00:11:53           2168         60  1.0              \n",
            "whenamancodes/adidas-us-retail-products-dataset                 Adidas US Retail Products Dataset               286KB  2022-10-26 15:44:20            907         35  1.0              \n",
            "jainilcoder/online-payment-fraud-detection                      Online Payment Fraud Detection                  178MB  2022-10-26 12:35:46           1317         40  0.9705882        \n"
          ]
        }
      ]
    },
    {
      "cell_type": "code",
      "source": [
        "!kaggle datasets download -d nightfury007/fercustomdataset-3classes"
      ],
      "metadata": {
        "colab": {
          "base_uri": "https://localhost:8080/"
        },
        "id": "jAWQX6ulovru",
        "outputId": "fee42468-e495-486d-d561-b71021907894"
      },
      "execution_count": 7,
      "outputs": [
        {
          "output_type": "stream",
          "name": "stdout",
          "text": [
            "Downloading fercustomdataset-3classes.zip to /content\n",
            " 97% 81.0M/83.1M [00:04<00:00, 22.6MB/s]\n",
            "100% 83.1M/83.1M [00:04<00:00, 18.2MB/s]\n"
          ]
        }
      ]
    },
    {
      "cell_type": "code",
      "source": [
        "!mkdir dataset"
      ],
      "metadata": {
        "id": "JcM8CAbYowAu"
      },
      "execution_count": 8,
      "outputs": []
    },
    {
      "cell_type": "code",
      "source": [
        "import os\n",
        "import torch\n",
        "import torchvision\n",
        "import tarfile\n",
        "import torch.nn as nn\n",
        "import numpy as np\n",
        "import torch.nn.functional as F\n",
        "from torchvision.datasets.utils import download_url\n",
        "from torchvision.datasets import ImageFolder\n",
        "from torch.utils.data import DataLoader\n",
        "import torchvision.transforms as transforms\n",
        "from torch.utils.data import random_split\n",
        "from torchvision.utils import make_grid\n",
        "import matplotlib\n",
        "from torch.utils.data import Dataset, DataLoader\n",
        "import matplotlib.pyplot as plt\n",
        "from torch.utils.data.sampler import SubsetRandomSampler\n",
        "import glob\n",
        "import torch.optim as optim\n",
        "import time\n",
        "import cv2\n",
        "import torchvision.datasets as datasets\n",
        "from tqdm import tqdm\n",
        "%matplotlib inline"
      ],
      "metadata": {
        "id": "yIDNx91q6OEl"
      },
      "execution_count": 26,
      "outputs": []
    },
    {
      "cell_type": "code",
      "source": [
        "data_dir = '/content/dataset/FER_Custom_Dataset'\n",
        "IMAGE_DIM=224\n",
        "\n",
        "print(os.listdir(data_dir))"
      ],
      "metadata": {
        "id": "jDL2XD2n6TVy",
        "colab": {
          "base_uri": "https://localhost:8080/"
        },
        "outputId": "b4e1bbfd-084d-4d03-80a2-4df41ad25b92"
      },
      "execution_count": 12,
      "outputs": [
        {
          "output_type": "stream",
          "name": "stdout",
          "text": [
            "['Disappointed', 'interested', 'neutral']\n"
          ]
        }
      ]
    },
    {
      "cell_type": "code",
      "source": [
        "!pip install tqdm"
      ],
      "metadata": {
        "colab": {
          "base_uri": "https://localhost:8080/"
        },
        "id": "ZBABqFYEtgr2",
        "outputId": "2e1ddad8-2869-404c-ec89-603b83c44068"
      },
      "execution_count": 20,
      "outputs": [
        {
          "output_type": "stream",
          "name": "stdout",
          "text": [
            "Looking in indexes: https://pypi.org/simple, https://us-python.pkg.dev/colab-wheels/public/simple/\n",
            "Requirement already satisfied: tqdm in /usr/local/lib/python3.7/dist-packages (4.64.1)\n"
          ]
        }
      ]
    },
    {
      "cell_type": "code",
      "source": [
        "transform_dict ={'src': transforms.Compose([transforms.Grayscale(num_output_channels=3),\n",
        "                                                transforms.Resize(IMAGE_DIM),\n",
        "                                                transforms.ToTensor(),\n",
        "                                                \n",
        "                                               ]\n",
        "                                              )\n",
        "                    }\n",
        "dataset = datasets.ImageFolder(data_dir, transform=transform_dict.get('src'))\n",
        "full_loader = torch.utils.data.DataLoader(dataset, shuffle=False, num_workers=os.cpu_count())\n",
        "print(len(full_loader))\n",
        "N_CHANNELS = 1\n",
        "\n",
        "\n",
        "mean = torch.zeros(1)\n",
        "std = torch.zeros(1)\n",
        "print('==> Computing mean and std..')\n",
        "for inputs, _labels in tqdm(full_loader):\n",
        "    for i in range(N_CHANNELS):\n",
        "        mean[i] += inputs[:,i,:,:].mean()\n",
        "        std[i] += inputs[:,i,:,:].std()\n",
        "mean.div_(len(dataset))\n",
        "std.div_(len(dataset))\n",
        "print(mean, std)"
      ],
      "metadata": {
        "colab": {
          "base_uri": "https://localhost:8080/"
        },
        "id": "TE-0zuE4tCWP",
        "outputId": "fe2066da-7289-4773-db33-e270d3f30395"
      },
      "execution_count": 35,
      "outputs": [
        {
          "output_type": "stream",
          "name": "stdout",
          "text": [
            "43819\n",
            "==> Computing mean and std..\n"
          ]
        },
        {
          "output_type": "stream",
          "name": "stderr",
          "text": [
            "100%|██████████| 43819/43819 [02:20<00:00, 311.25it/s]\n"
          ]
        },
        {
          "output_type": "stream",
          "name": "stdout",
          "text": [
            "tensor([0.4940]) tensor([0.2021])\n"
          ]
        }
      ]
    },
    {
      "cell_type": "code",
      "source": [
        "def load_data(path, test_split, batch_size, input_size, shuffle_dataset=True,random_seed=42):\n",
        "\n",
        "    transform_dict ={'src': transforms.Compose([transforms.Grayscale(num_output_channels=3),\n",
        "                                                transforms.Resize(IMAGE_DIM),\n",
        "                                                transforms.ToTensor(),\n",
        "                                                transforms.Normalize(mean=[0.494,0.494, 0.494],\n",
        "                                                                     std=[0.2021, 0.202, 0.202]\n",
        "                                                                    )\n",
        "                                               ]\n",
        "                                              )\n",
        "                    }\n",
        "    \n",
        "    dataset = datasets.ImageFolder(data_dir, transform=transform_dict.get('src'))\n",
        "    dataset_size = len(dataset)\n",
        "    train_test_indices = list(range(dataset_size))\n",
        "    test_split = int(np.floor(test_split * dataset_size))\n",
        "    \n",
        "    if shuffle_dataset :\n",
        "        np.random.seed(random_seed)\n",
        "        np.random.shuffle(train_test_indices)\n",
        "    train_indices, test_indices = train_test_indices[test_split:], train_test_indices[:test_split]\n",
        "    \n",
        "\n",
        "    # Creating PT data samplers and loaders:\n",
        "    train_sampler = SubsetRandomSampler(train_indices)\n",
        "    test_sampler = SubsetRandomSampler(test_indices)\n",
        "\n",
        "    data_loader_train = torch.utils.data.DataLoader(dataset, batch_size=batch_size, \n",
        "                                              sampler=train_sampler)\n",
        "    data_loader_test = torch.utils.data.DataLoader(dataset, batch_size=batch_size,\n",
        "                                                    sampler=test_sampler)\n",
        "    \n",
        "    return data_loader_train, data_loader_test"
      ],
      "metadata": {
        "id": "CWrqO8h56VYk"
      },
      "execution_count": 36,
      "outputs": []
    },
    {
      "cell_type": "code",
      "source": [
        "train_loader, test_loader=load_data(data_dir,0.2,32,(64,64))\n",
        "\n",
        "print(len(train_loader), len(test_loader))"
      ],
      "metadata": {
        "id": "sJcMFe_H6Ye2",
        "colab": {
          "base_uri": "https://localhost:8080/"
        },
        "outputId": "f738901d-4ff9-4ba0-ea18-ea3676cf314f"
      },
      "execution_count": 37,
      "outputs": [
        {
          "output_type": "stream",
          "name": "stdout",
          "text": [
            "1096 274\n"
          ]
        }
      ]
    },
    {
      "cell_type": "code",
      "source": [
        "######## Write your code here ##############\n",
        "model = torch.hub.load('pytorch/vision:v0.10.0', 'vgg19', pretrained=False)\n",
        "criterion = torch.nn.CrossEntropyLoss()\n",
        "optimizer = torch.optim.Adam(model.parameters(), lr=0.001)\n"
      ],
      "metadata": {
        "id": "HnLT4T0Q6ZbK",
        "colab": {
          "base_uri": "https://localhost:8080/"
        },
        "outputId": "144770f0-88bf-472b-dcaa-f745d5e067c1"
      },
      "execution_count": 38,
      "outputs": [
        {
          "output_type": "stream",
          "name": "stderr",
          "text": [
            "Using cache found in /root/.cache/torch/hub/pytorch_vision_v0.10.0\n",
            "/usr/local/lib/python3.7/dist-packages/torchvision/models/_utils.py:209: UserWarning: The parameter 'pretrained' is deprecated since 0.13 and will be removed in 0.15, please use 'weights' instead.\n",
            "  f\"The parameter '{pretrained_param}' is deprecated since 0.13 and will be removed in 0.15, \"\n",
            "/usr/local/lib/python3.7/dist-packages/torchvision/models/_utils.py:223: UserWarning: Arguments other than a weight enum or `None` for 'weights' are deprecated since 0.13 and will be removed in 0.15. The current behavior is equivalent to passing `weights=None`.\n",
            "  warnings.warn(msg)\n"
          ]
        }
      ]
    },
    {
      "cell_type": "code",
      "source": [
        "device = torch.device(\"cuda:0\" if torch.cuda.is_available() else \"cpu\")\n",
        "print(\"Device: {}\".format(device))\n",
        "model.to(device)\n",
        "\n",
        "num_epochs = 10\n",
        "total_steps = len(train_loader)\n",
        "t1 = time.time()\n",
        "training_loss = []\n",
        "training_accuracy = []\n",
        "for epoch in range(num_epochs):\n",
        "    temp_loss = []\n",
        "    temp_accu = []\n",
        "    for i, data in enumerate(train_loader):\n",
        "        images, labels = data[0].to(device), data[1].to(device)\n",
        "        # Forward pass\n",
        "        outputs = model(images)\n",
        "        loss = criterion(outputs, labels)\n",
        "        \n",
        "        # Backprop and optimisation\n",
        "        optimizer.zero_grad()\n",
        "        loss.backward()\n",
        "        optimizer.step()\n",
        "        \n",
        "        # Train accuracy\n",
        "        total = labels.size(0)\n",
        "        _,predicted = torch.max(outputs.data, 1)\n",
        "        correct = (predicted == labels).sum().item()\n",
        "        if (i + 1) % 100 == 0:\n",
        "            print('Epoch [{}/{}], Step [{}/{}], Loss: {:.4f}, Accuracy: {:.2f}%'\n",
        "                .format(epoch + 1, num_epochs, i + 1, total_steps, loss.item(),\n",
        "                    (correct / total) * 100))\n",
        "            temp_loss.append(loss.item())\n",
        "            temp_accu.append((correct / total) * 100)\n",
        "    print(f'Loss After {epoch+1} epoch : ', sum(temp_loss)/len(temp_loss))\n",
        "    print(f'Accuracy After {epoch+1} epoch : ', sum(temp_accu)/len(temp_accu))\n",
        "    training_loss.append(sum(temp_loss)/len(temp_loss))\n",
        "    training_accuracy.append(sum(temp_accu)/len(temp_accu))\n",
        "print(\"######## Training Finished in {} seconds ###########\".format(time.time()-t1))"
      ],
      "metadata": {
        "id": "7VLVATHA6bld",
        "colab": {
          "base_uri": "https://localhost:8080/"
        },
        "outputId": "4c5d1fa5-5991-4f15-bf16-299c61406b5f"
      },
      "execution_count": 39,
      "outputs": [
        {
          "output_type": "stream",
          "name": "stdout",
          "text": [
            "Device: cuda:0\n",
            "Epoch [1/10], Step [100/1096], Loss: 1.1680, Accuracy: 21.88%\n",
            "Epoch [1/10], Step [200/1096], Loss: 1.1394, Accuracy: 34.38%\n",
            "Epoch [1/10], Step [300/1096], Loss: 1.0930, Accuracy: 37.50%\n",
            "Epoch [1/10], Step [400/1096], Loss: 1.1090, Accuracy: 28.12%\n",
            "Epoch [1/10], Step [500/1096], Loss: 1.1152, Accuracy: 31.25%\n",
            "Epoch [1/10], Step [600/1096], Loss: 1.0392, Accuracy: 53.12%\n",
            "Epoch [1/10], Step [700/1096], Loss: 1.1265, Accuracy: 25.00%\n",
            "Epoch [1/10], Step [800/1096], Loss: 1.0459, Accuracy: 50.00%\n",
            "Epoch [1/10], Step [900/1096], Loss: 1.0526, Accuracy: 46.88%\n",
            "Epoch [1/10], Step [1000/1096], Loss: 1.0877, Accuracy: 43.75%\n",
            "Loss After 1 epoch :  1.097654151916504\n",
            "Accuracy After 1 epoch :  37.1875\n",
            "Epoch [2/10], Step [100/1096], Loss: 1.0539, Accuracy: 43.75%\n",
            "Epoch [2/10], Step [200/1096], Loss: 1.0701, Accuracy: 46.88%\n",
            "Epoch [2/10], Step [300/1096], Loss: 1.1078, Accuracy: 37.50%\n",
            "Epoch [2/10], Step [400/1096], Loss: 1.1042, Accuracy: 34.38%\n",
            "Epoch [2/10], Step [500/1096], Loss: 1.0588, Accuracy: 50.00%\n",
            "Epoch [2/10], Step [600/1096], Loss: 1.0942, Accuracy: 40.62%\n",
            "Epoch [2/10], Step [700/1096], Loss: 1.0719, Accuracy: 46.88%\n",
            "Epoch [2/10], Step [800/1096], Loss: 1.0955, Accuracy: 37.50%\n",
            "Epoch [2/10], Step [900/1096], Loss: 1.1151, Accuracy: 28.12%\n",
            "Epoch [2/10], Step [1000/1096], Loss: 1.1092, Accuracy: 34.38%\n",
            "Loss After 2 epoch :  1.088078796863556\n",
            "Accuracy After 2 epoch :  40.0\n",
            "Epoch [3/10], Step [100/1096], Loss: 1.1341, Accuracy: 31.25%\n",
            "Epoch [3/10], Step [200/1096], Loss: 1.1125, Accuracy: 31.25%\n",
            "Epoch [3/10], Step [300/1096], Loss: 1.0639, Accuracy: 56.25%\n",
            "Epoch [3/10], Step [400/1096], Loss: 1.1162, Accuracy: 31.25%\n",
            "Epoch [3/10], Step [500/1096], Loss: 1.0654, Accuracy: 46.88%\n",
            "Epoch [3/10], Step [600/1096], Loss: 1.1342, Accuracy: 28.12%\n",
            "Epoch [3/10], Step [700/1096], Loss: 1.1066, Accuracy: 34.38%\n",
            "Epoch [3/10], Step [800/1096], Loss: 1.0920, Accuracy: 40.62%\n",
            "Epoch [3/10], Step [900/1096], Loss: 1.0877, Accuracy: 43.75%\n",
            "Epoch [3/10], Step [1000/1096], Loss: 1.0247, Accuracy: 62.50%\n",
            "Loss After 3 epoch :  1.093734323978424\n",
            "Accuracy After 3 epoch :  40.625\n",
            "Epoch [4/10], Step [100/1096], Loss: 1.0529, Accuracy: 59.38%\n",
            "Epoch [4/10], Step [200/1096], Loss: 1.0900, Accuracy: 40.62%\n",
            "Epoch [4/10], Step [300/1096], Loss: 1.1393, Accuracy: 28.12%\n",
            "Epoch [4/10], Step [400/1096], Loss: 1.1099, Accuracy: 28.12%\n",
            "Epoch [4/10], Step [500/1096], Loss: 1.0307, Accuracy: 59.38%\n",
            "Epoch [4/10], Step [600/1096], Loss: 1.0921, Accuracy: 43.75%\n",
            "Epoch [4/10], Step [700/1096], Loss: 1.1074, Accuracy: 37.50%\n",
            "Epoch [4/10], Step [800/1096], Loss: 1.0999, Accuracy: 37.50%\n",
            "Epoch [4/10], Step [900/1096], Loss: 1.0710, Accuracy: 43.75%\n",
            "Epoch [4/10], Step [1000/1096], Loss: 1.0874, Accuracy: 40.62%\n",
            "Loss After 4 epoch :  1.0880707025527954\n",
            "Accuracy After 4 epoch :  41.875\n",
            "Epoch [5/10], Step [100/1096], Loss: 1.0729, Accuracy: 40.62%\n",
            "Epoch [5/10], Step [200/1096], Loss: 1.1392, Accuracy: 21.88%\n",
            "Epoch [5/10], Step [300/1096], Loss: 1.0646, Accuracy: 40.62%\n",
            "Epoch [5/10], Step [400/1096], Loss: 1.0749, Accuracy: 43.75%\n",
            "Epoch [5/10], Step [500/1096], Loss: 1.0978, Accuracy: 37.50%\n",
            "Epoch [5/10], Step [600/1096], Loss: 1.0960, Accuracy: 40.62%\n",
            "Epoch [5/10], Step [700/1096], Loss: 1.0751, Accuracy: 43.75%\n",
            "Epoch [5/10], Step [800/1096], Loss: 1.0795, Accuracy: 43.75%\n",
            "Epoch [5/10], Step [900/1096], Loss: 1.1150, Accuracy: 31.25%\n",
            "Epoch [5/10], Step [1000/1096], Loss: 1.1303, Accuracy: 25.00%\n",
            "Loss After 5 epoch :  1.094522762298584\n",
            "Accuracy After 5 epoch :  36.875\n",
            "Epoch [6/10], Step [100/1096], Loss: 1.0755, Accuracy: 43.75%\n",
            "Epoch [6/10], Step [200/1096], Loss: 1.1344, Accuracy: 34.38%\n",
            "Epoch [6/10], Step [300/1096], Loss: 1.0850, Accuracy: 43.75%\n",
            "Epoch [6/10], Step [400/1096], Loss: 1.0627, Accuracy: 46.88%\n",
            "Epoch [6/10], Step [500/1096], Loss: 1.1288, Accuracy: 31.25%\n",
            "Epoch [6/10], Step [600/1096], Loss: 1.0953, Accuracy: 37.50%\n",
            "Epoch [6/10], Step [700/1096], Loss: 1.0742, Accuracy: 43.75%\n",
            "Epoch [6/10], Step [800/1096], Loss: 1.0613, Accuracy: 43.75%\n",
            "Epoch [6/10], Step [900/1096], Loss: 1.1309, Accuracy: 28.12%\n",
            "Epoch [6/10], Step [1000/1096], Loss: 1.0322, Accuracy: 56.25%\n",
            "Loss After 6 epoch :  1.0880425095558166\n",
            "Accuracy After 6 epoch :  40.9375\n",
            "Epoch [7/10], Step [100/1096], Loss: 1.1096, Accuracy: 31.25%\n",
            "Epoch [7/10], Step [200/1096], Loss: 1.0850, Accuracy: 40.62%\n",
            "Epoch [7/10], Step [300/1096], Loss: 1.0265, Accuracy: 65.62%\n",
            "Epoch [7/10], Step [400/1096], Loss: 1.0640, Accuracy: 50.00%\n",
            "Epoch [7/10], Step [500/1096], Loss: 1.0761, Accuracy: 46.88%\n",
            "Epoch [7/10], Step [600/1096], Loss: 1.1090, Accuracy: 34.38%\n",
            "Epoch [7/10], Step [700/1096], Loss: 1.1140, Accuracy: 34.38%\n",
            "Epoch [7/10], Step [800/1096], Loss: 1.0610, Accuracy: 43.75%\n",
            "Epoch [7/10], Step [900/1096], Loss: 1.1264, Accuracy: 37.50%\n",
            "Epoch [7/10], Step [1000/1096], Loss: 1.0964, Accuracy: 37.50%\n",
            "Loss After 7 epoch :  1.0868018865585327\n",
            "Accuracy After 7 epoch :  42.1875\n",
            "Epoch [8/10], Step [100/1096], Loss: 1.1190, Accuracy: 25.00%\n",
            "Epoch [8/10], Step [200/1096], Loss: 1.0819, Accuracy: 28.12%\n",
            "Epoch [8/10], Step [300/1096], Loss: 1.1214, Accuracy: 31.25%\n",
            "Epoch [8/10], Step [400/1096], Loss: 1.0949, Accuracy: 40.62%\n",
            "Epoch [8/10], Step [500/1096], Loss: 1.1218, Accuracy: 28.12%\n",
            "Epoch [8/10], Step [600/1096], Loss: 1.1308, Accuracy: 18.75%\n",
            "Epoch [8/10], Step [700/1096], Loss: 1.0887, Accuracy: 43.75%\n",
            "Epoch [8/10], Step [800/1096], Loss: 1.1090, Accuracy: 34.38%\n",
            "Epoch [8/10], Step [900/1096], Loss: 1.1031, Accuracy: 31.25%\n",
            "Epoch [8/10], Step [1000/1096], Loss: 1.0866, Accuracy: 40.62%\n",
            "Loss After 8 epoch :  1.1057210683822631\n",
            "Accuracy After 8 epoch :  32.1875\n",
            "Epoch [9/10], Step [100/1096], Loss: 1.1027, Accuracy: 37.50%\n",
            "Epoch [9/10], Step [200/1096], Loss: 1.0950, Accuracy: 37.50%\n",
            "Epoch [9/10], Step [300/1096], Loss: 1.0639, Accuracy: 50.00%\n",
            "Epoch [9/10], Step [400/1096], Loss: 1.1138, Accuracy: 37.50%\n",
            "Epoch [9/10], Step [500/1096], Loss: 1.0927, Accuracy: 37.50%\n",
            "Epoch [9/10], Step [600/1096], Loss: 1.0941, Accuracy: 34.38%\n",
            "Epoch [9/10], Step [700/1096], Loss: 1.0864, Accuracy: 40.62%\n",
            "Epoch [9/10], Step [800/1096], Loss: 1.0853, Accuracy: 40.62%\n",
            "Epoch [9/10], Step [900/1096], Loss: 1.0951, Accuracy: 37.50%\n",
            "Epoch [9/10], Step [1000/1096], Loss: 1.1310, Accuracy: 25.00%\n",
            "Loss After 9 epoch :  1.096017599105835\n",
            "Accuracy After 9 epoch :  37.8125\n",
            "Epoch [10/10], Step [100/1096], Loss: 1.0664, Accuracy: 53.12%\n",
            "Epoch [10/10], Step [200/1096], Loss: 1.0701, Accuracy: 46.88%\n",
            "Epoch [10/10], Step [300/1096], Loss: 1.0655, Accuracy: 53.12%\n",
            "Epoch [10/10], Step [400/1096], Loss: 1.0756, Accuracy: 43.75%\n",
            "Epoch [10/10], Step [500/1096], Loss: 1.1396, Accuracy: 28.12%\n",
            "Epoch [10/10], Step [600/1096], Loss: 1.1233, Accuracy: 31.25%\n",
            "Epoch [10/10], Step [700/1096], Loss: 1.1130, Accuracy: 40.62%\n",
            "Epoch [10/10], Step [800/1096], Loss: 1.0979, Accuracy: 28.12%\n",
            "Epoch [10/10], Step [900/1096], Loss: 1.0786, Accuracy: 43.75%\n",
            "Epoch [10/10], Step [1000/1096], Loss: 1.0862, Accuracy: 43.75%\n",
            "Loss After 10 epoch :  1.0916218757629395\n",
            "Accuracy After 10 epoch :  41.25\n",
            "######## Training Finished in 6312.958656311035 seconds ###########\n"
          ]
        }
      ]
    },
    {
      "cell_type": "code",
      "source": [
        "epochs = [i for i in range(num_epochs)]\n",
        "plt.figure()\n",
        "plt.xlabel('epoch')\n",
        "plt.ylabel('Loss')\n",
        "plt.title('Loss plot')\n",
        "\n",
        "plt.plot(epochs,training_loss,label='loss')    \n",
        "plt.legend()"
      ],
      "metadata": {
        "id": "9Ha_rDvC6di2",
        "colab": {
          "base_uri": "https://localhost:8080/",
          "height": 312
        },
        "outputId": "f067ac46-daed-4ee5-c339-58b65e32efd4"
      },
      "execution_count": 40,
      "outputs": [
        {
          "output_type": "execute_result",
          "data": {
            "text/plain": [
              "<matplotlib.legend.Legend at 0x7f2f69263690>"
            ]
          },
          "metadata": {},
          "execution_count": 40
        },
        {
          "output_type": "display_data",
          "data": {
            "text/plain": [
              "<Figure size 432x288 with 1 Axes>"
            ],
            "image/png": "[encoded data removed]"
          },
          "metadata": {
            "needs_background": "light"
          }
        }
      ]
    },
    {
      "cell_type": "code",
      "source": [],
      "metadata": {
        "id": "aM_Yu4h0MQKY"
      },
      "execution_count": null,
      "outputs": []
    },
    {
      "cell_type": "code",
      "source": [
        "epochs = [i for i in range(num_epochs)]\n",
        "plt.figure()\n",
        "plt.xlabel('epoch')\n",
        "plt.ylabel('Accuracy')\n",
        "plt.title('Accuracy plot')\n",
        "\n",
        "plt.plot(epochs,training_accuracy,label='Accuracy')    \n",
        "plt.legend()"
      ],
      "metadata": {
        "colab": {
          "base_uri": "https://localhost:8080/",
          "height": 312
        },
        "id": "E24Q7kUSKqJY",
        "outputId": "8b2de9e8-60cc-4458-cb76-b8276266cfdf"
      },
      "execution_count": 42,
      "outputs": [
        {
          "output_type": "execute_result",
          "data": {
            "text/plain": [
              "<matplotlib.legend.Legend at 0x7f2ea4f94e50>"
            ]
          },
          "metadata": {},
          "execution_count": 42
        },
        {
          "output_type": "display_data",
          "data": {
            "text/plain": [
              "<Figure size 432x288 with 1 Axes>"
            ],
            "image/png": "[encoded data removed]"
          },
          "metadata": {
            "needs_background": "light"
          }
        }
      ]
    },
    {
      "cell_type": "code",
      "source": [],
      "metadata": {
        "id": "qJAIDz9oK-_o"
      },
      "execution_count": null,
      "outputs": []
    }
  ]
}